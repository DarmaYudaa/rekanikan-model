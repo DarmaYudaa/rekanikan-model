{
  "nbformat": 4,
  "nbformat_minor": 0,
  "metadata": {
    "colab": {
      "provenance": []
    },
    "kernelspec": {
      "name": "python3",
      "display_name": "Python 3"
    },
    "language_info": {
      "name": "python"
    }
  },
  "cells": [
    {
      "cell_type": "code",
      "execution_count": 2,
      "metadata": {
        "id": "ffhAwZ7rUe-U"
      },
      "outputs": [],
      "source": [
        "import pandas as pd\n",
        "from sklearn.preprocessing import LabelEncoder, MinMaxScaler\n",
        "from tensorflow.keras.models import Model\n",
        "from tensorflow.keras.layers import Input, Dense, Embedding, Flatten, Concatenate\n",
        "import numpy as np"
      ]
    },
    {
      "cell_type": "code",
      "source": [
        "from google.colab import drive\n",
        "drive.mount('/content/drive')"
      ],
      "metadata": {
        "colab": {
          "base_uri": "https://localhost:8080/"
        },
        "id": "zIV_Nb1MiV-e",
        "outputId": "109e68a3-5ef5-45b4-a25d-5538423ce87f"
      },
      "execution_count": 3,
      "outputs": [
        {
          "output_type": "stream",
          "name": "stdout",
          "text": [
            "Mounted at /content/drive\n"
          ]
        }
      ]
    },
    {
      "cell_type": "code",
      "source": [
        "df_ikan = pd.read_csv('/content/drive/MyDrive/csv/dataset_teman_ikan_final.csv')"
      ],
      "metadata": {
        "id": "Pa15O-oRhyG9"
      },
      "execution_count": 4,
      "outputs": []
    },
    {
      "cell_type": "code",
      "source": [
        "df_ikan.head(5)"
      ],
      "metadata": {
        "colab": {
          "base_uri": "https://localhost:8080/",
          "height": 224
        },
        "id": "qMnBH4vZMk26",
        "outputId": "efd18178-7522-42b3-b83f-80a541af72ea"
      },
      "execution_count": 6,
      "outputs": [
        {
          "output_type": "execute_result",
          "data": {
            "text/plain": [
              "   id_ikan                                 nama_ikan  ukuran_maksimum_cm  \\\n",
              "0        0                  Betta Splendens (Cupang)                   7   \n",
              "1        1  Red Devil Cichlid (Amphilophus labiatus)                  30   \n",
              "2        2               Guppy (Poecilia reticulata)                   4   \n",
              "3        3                         Komet (Carrasius)                  20   \n",
              "4        4            Manfish (Pterophyllum scalare)                  50   \n",
              "\n",
              "   min_suhu_optimal_celcius  max_suhu_optimal_celcius  min_suhu_pH_air  \\\n",
              "0                        24                        28              6.0   \n",
              "1                        25                        28              6.5   \n",
              "2                        22                        28              6.5   \n",
              "3                        27                        30              6.0   \n",
              "4                        25                        28              6.0   \n",
              "\n",
              "   max_suhu_pH_air  sifat_ikan  \n",
              "0              7.0           1  \n",
              "1              7.5           2  \n",
              "2              8.0           0  \n",
              "3              8.3           0  \n",
              "4              8.0           1  "
            ],
            "text/html": [
              "\n",
              "  <div id=\"df-4f4efa1a-3ce2-460f-9067-edbdef3b327c\" class=\"colab-df-container\">\n",
              "    <div>\n",
              "<style scoped>\n",
              "    .dataframe tbody tr th:only-of-type {\n",
              "        vertical-align: middle;\n",
              "    }\n",
              "\n",
              "    .dataframe tbody tr th {\n",
              "        vertical-align: top;\n",
              "    }\n",
              "\n",
              "    .dataframe thead th {\n",
              "        text-align: right;\n",
              "    }\n",
              "</style>\n",
              "<table border=\"1\" class=\"dataframe\">\n",
              "  <thead>\n",
              "    <tr style=\"text-align: right;\">\n",
              "      <th></th>\n",
              "      <th>id_ikan</th>\n",
              "      <th>nama_ikan</th>\n",
              "      <th>ukuran_maksimum_cm</th>\n",
              "      <th>min_suhu_optimal_celcius</th>\n",
              "      <th>max_suhu_optimal_celcius</th>\n",
              "      <th>min_suhu_pH_air</th>\n",
              "      <th>max_suhu_pH_air</th>\n",
              "      <th>sifat_ikan</th>\n",
              "    </tr>\n",
              "  </thead>\n",
              "  <tbody>\n",
              "    <tr>\n",
              "      <th>0</th>\n",
              "      <td>0</td>\n",
              "      <td>Betta Splendens (Cupang)</td>\n",
              "      <td>7</td>\n",
              "      <td>24</td>\n",
              "      <td>28</td>\n",
              "      <td>6.0</td>\n",
              "      <td>7.0</td>\n",
              "      <td>1</td>\n",
              "    </tr>\n",
              "    <tr>\n",
              "      <th>1</th>\n",
              "      <td>1</td>\n",
              "      <td>Red Devil Cichlid (Amphilophus labiatus)</td>\n",
              "      <td>30</td>\n",
              "      <td>25</td>\n",
              "      <td>28</td>\n",
              "      <td>6.5</td>\n",
              "      <td>7.5</td>\n",
              "      <td>2</td>\n",
              "    </tr>\n",
              "    <tr>\n",
              "      <th>2</th>\n",
              "      <td>2</td>\n",
              "      <td>Guppy (Poecilia reticulata)</td>\n",
              "      <td>4</td>\n",
              "      <td>22</td>\n",
              "      <td>28</td>\n",
              "      <td>6.5</td>\n",
              "      <td>8.0</td>\n",
              "      <td>0</td>\n",
              "    </tr>\n",
              "    <tr>\n",
              "      <th>3</th>\n",
              "      <td>3</td>\n",
              "      <td>Komet (Carrasius)</td>\n",
              "      <td>20</td>\n",
              "      <td>27</td>\n",
              "      <td>30</td>\n",
              "      <td>6.0</td>\n",
              "      <td>8.3</td>\n",
              "      <td>0</td>\n",
              "    </tr>\n",
              "    <tr>\n",
              "      <th>4</th>\n",
              "      <td>4</td>\n",
              "      <td>Manfish (Pterophyllum scalare)</td>\n",
              "      <td>50</td>\n",
              "      <td>25</td>\n",
              "      <td>28</td>\n",
              "      <td>6.0</td>\n",
              "      <td>8.0</td>\n",
              "      <td>1</td>\n",
              "    </tr>\n",
              "  </tbody>\n",
              "</table>\n",
              "</div>\n",
              "    <div class=\"colab-df-buttons\">\n",
              "\n",
              "  <div class=\"colab-df-container\">\n",
              "    <button class=\"colab-df-convert\" onclick=\"convertToInteractive('df-4f4efa1a-3ce2-460f-9067-edbdef3b327c')\"\n",
              "            title=\"Convert this dataframe to an interactive table.\"\n",
              "            style=\"display:none;\">\n",
              "\n",
              "  <svg xmlns=\"http://www.w3.org/2000/svg\" height=\"24px\" viewBox=\"0 -960 960 960\">\n",
              "    <path d=\"M120-120v-720h720v720H120Zm60-500h600v-160H180v160Zm220 220h160v-160H400v160Zm0 220h160v-160H400v160ZM180-400h160v-160H180v160Zm440 0h160v-160H620v160ZM180-180h160v-160H180v160Zm440 0h160v-160H620v160Z\"/>\n",
              "  </svg>\n",
              "    </button>\n",
              "\n",
              "  <style>\n",
              "    .colab-df-container {\n",
              "      display:flex;\n",
              "      gap: 12px;\n",
              "    }\n",
              "\n",
              "    .colab-df-convert {\n",
              "      background-color: #E8F0FE;\n",
              "      border: none;\n",
              "      border-radius: 50%;\n",
              "      cursor: pointer;\n",
              "      display: none;\n",
              "      fill: #1967D2;\n",
              "      height: 32px;\n",
              "      padding: 0 0 0 0;\n",
              "      width: 32px;\n",
              "    }\n",
              "\n",
              "    .colab-df-convert:hover {\n",
              "      background-color: #E2EBFA;\n",
              "      box-shadow: 0px 1px 2px rgba(60, 64, 67, 0.3), 0px 1px 3px 1px rgba(60, 64, 67, 0.15);\n",
              "      fill: #174EA6;\n",
              "    }\n",
              "\n",
              "    .colab-df-buttons div {\n",
              "      margin-bottom: 4px;\n",
              "    }\n",
              "\n",
              "    [theme=dark] .colab-df-convert {\n",
              "      background-color: #3B4455;\n",
              "      fill: #D2E3FC;\n",
              "    }\n",
              "\n",
              "    [theme=dark] .colab-df-convert:hover {\n",
              "      background-color: #434B5C;\n",
              "      box-shadow: 0px 1px 3px 1px rgba(0, 0, 0, 0.15);\n",
              "      filter: drop-shadow(0px 1px 2px rgba(0, 0, 0, 0.3));\n",
              "      fill: #FFFFFF;\n",
              "    }\n",
              "  </style>\n",
              "\n",
              "    <script>\n",
              "      const buttonEl =\n",
              "        document.querySelector('#df-4f4efa1a-3ce2-460f-9067-edbdef3b327c button.colab-df-convert');\n",
              "      buttonEl.style.display =\n",
              "        google.colab.kernel.accessAllowed ? 'block' : 'none';\n",
              "\n",
              "      async function convertToInteractive(key) {\n",
              "        const element = document.querySelector('#df-4f4efa1a-3ce2-460f-9067-edbdef3b327c');\n",
              "        const dataTable =\n",
              "          await google.colab.kernel.invokeFunction('convertToInteractive',\n",
              "                                                    [key], {});\n",
              "        if (!dataTable) return;\n",
              "\n",
              "        const docLinkHtml = 'Like what you see? Visit the ' +\n",
              "          '<a target=\"_blank\" href=https://colab.research.google.com/notebooks/data_table.ipynb>data table notebook</a>'\n",
              "          + ' to learn more about interactive tables.';\n",
              "        element.innerHTML = '';\n",
              "        dataTable['output_type'] = 'display_data';\n",
              "        await google.colab.output.renderOutput(dataTable, element);\n",
              "        const docLink = document.createElement('div');\n",
              "        docLink.innerHTML = docLinkHtml;\n",
              "        element.appendChild(docLink);\n",
              "      }\n",
              "    </script>\n",
              "  </div>\n",
              "\n",
              "\n",
              "<div id=\"df-5221d9e7-7759-444a-bc1d-aa9a4f0cb711\">\n",
              "  <button class=\"colab-df-quickchart\" onclick=\"quickchart('df-5221d9e7-7759-444a-bc1d-aa9a4f0cb711')\"\n",
              "            title=\"Suggest charts\"\n",
              "            style=\"display:none;\">\n",
              "\n",
              "<svg xmlns=\"http://www.w3.org/2000/svg\" height=\"24px\"viewBox=\"0 0 24 24\"\n",
              "     width=\"24px\">\n",
              "    <g>\n",
              "        <path d=\"M19 3H5c-1.1 0-2 .9-2 2v14c0 1.1.9 2 2 2h14c1.1 0 2-.9 2-2V5c0-1.1-.9-2-2-2zM9 17H7v-7h2v7zm4 0h-2V7h2v10zm4 0h-2v-4h2v4z\"/>\n",
              "    </g>\n",
              "</svg>\n",
              "  </button>\n",
              "\n",
              "<style>\n",
              "  .colab-df-quickchart {\n",
              "      --bg-color: #E8F0FE;\n",
              "      --fill-color: #1967D2;\n",
              "      --hover-bg-color: #E2EBFA;\n",
              "      --hover-fill-color: #174EA6;\n",
              "      --disabled-fill-color: #AAA;\n",
              "      --disabled-bg-color: #DDD;\n",
              "  }\n",
              "\n",
              "  [theme=dark] .colab-df-quickchart {\n",
              "      --bg-color: #3B4455;\n",
              "      --fill-color: #D2E3FC;\n",
              "      --hover-bg-color: #434B5C;\n",
              "      --hover-fill-color: #FFFFFF;\n",
              "      --disabled-bg-color: #3B4455;\n",
              "      --disabled-fill-color: #666;\n",
              "  }\n",
              "\n",
              "  .colab-df-quickchart {\n",
              "    background-color: var(--bg-color);\n",
              "    border: none;\n",
              "    border-radius: 50%;\n",
              "    cursor: pointer;\n",
              "    display: none;\n",
              "    fill: var(--fill-color);\n",
              "    height: 32px;\n",
              "    padding: 0;\n",
              "    width: 32px;\n",
              "  }\n",
              "\n",
              "  .colab-df-quickchart:hover {\n",
              "    background-color: var(--hover-bg-color);\n",
              "    box-shadow: 0 1px 2px rgba(60, 64, 67, 0.3), 0 1px 3px 1px rgba(60, 64, 67, 0.15);\n",
              "    fill: var(--button-hover-fill-color);\n",
              "  }\n",
              "\n",
              "  .colab-df-quickchart-complete:disabled,\n",
              "  .colab-df-quickchart-complete:disabled:hover {\n",
              "    background-color: var(--disabled-bg-color);\n",
              "    fill: var(--disabled-fill-color);\n",
              "    box-shadow: none;\n",
              "  }\n",
              "\n",
              "  .colab-df-spinner {\n",
              "    border: 2px solid var(--fill-color);\n",
              "    border-color: transparent;\n",
              "    border-bottom-color: var(--fill-color);\n",
              "    animation:\n",
              "      spin 1s steps(1) infinite;\n",
              "  }\n",
              "\n",
              "  @keyframes spin {\n",
              "    0% {\n",
              "      border-color: transparent;\n",
              "      border-bottom-color: var(--fill-color);\n",
              "      border-left-color: var(--fill-color);\n",
              "    }\n",
              "    20% {\n",
              "      border-color: transparent;\n",
              "      border-left-color: var(--fill-color);\n",
              "      border-top-color: var(--fill-color);\n",
              "    }\n",
              "    30% {\n",
              "      border-color: transparent;\n",
              "      border-left-color: var(--fill-color);\n",
              "      border-top-color: var(--fill-color);\n",
              "      border-right-color: var(--fill-color);\n",
              "    }\n",
              "    40% {\n",
              "      border-color: transparent;\n",
              "      border-right-color: var(--fill-color);\n",
              "      border-top-color: var(--fill-color);\n",
              "    }\n",
              "    60% {\n",
              "      border-color: transparent;\n",
              "      border-right-color: var(--fill-color);\n",
              "    }\n",
              "    80% {\n",
              "      border-color: transparent;\n",
              "      border-right-color: var(--fill-color);\n",
              "      border-bottom-color: var(--fill-color);\n",
              "    }\n",
              "    90% {\n",
              "      border-color: transparent;\n",
              "      border-bottom-color: var(--fill-color);\n",
              "    }\n",
              "  }\n",
              "</style>\n",
              "\n",
              "  <script>\n",
              "    async function quickchart(key) {\n",
              "      const quickchartButtonEl =\n",
              "        document.querySelector('#' + key + ' button');\n",
              "      quickchartButtonEl.disabled = true;  // To prevent multiple clicks.\n",
              "      quickchartButtonEl.classList.add('colab-df-spinner');\n",
              "      try {\n",
              "        const charts = await google.colab.kernel.invokeFunction(\n",
              "            'suggestCharts', [key], {});\n",
              "      } catch (error) {\n",
              "        console.error('Error during call to suggestCharts:', error);\n",
              "      }\n",
              "      quickchartButtonEl.classList.remove('colab-df-spinner');\n",
              "      quickchartButtonEl.classList.add('colab-df-quickchart-complete');\n",
              "    }\n",
              "    (() => {\n",
              "      let quickchartButtonEl =\n",
              "        document.querySelector('#df-5221d9e7-7759-444a-bc1d-aa9a4f0cb711 button');\n",
              "      quickchartButtonEl.style.display =\n",
              "        google.colab.kernel.accessAllowed ? 'block' : 'none';\n",
              "    })();\n",
              "  </script>\n",
              "</div>\n",
              "    </div>\n",
              "  </div>\n"
            ]
          },
          "metadata": {},
          "execution_count": 6
        }
      ]
    },
    {
      "cell_type": "code",
      "source": [
        "label_encoder = LabelEncoder()\n",
        "df_ikan['sifat_ikan'] = label_encoder.fit_transform(df_ikan['sifat_ikan'])"
      ],
      "metadata": {
        "id": "-yLJ-WDZhyJi"
      },
      "execution_count": 7,
      "outputs": []
    },
    {
      "cell_type": "code",
      "source": [
        "scaler = MinMaxScaler()\n",
        "numeric_features = ['ukuran_maksimum_cm', 'min_suhu_optimal_celcius', 'max_suhu_optimal_celcius', 'min_suhu_pH_air', 'max_suhu_pH_air']\n",
        "df_ikan[numeric_features] = scaler.fit_transform(df_ikan[numeric_features])"
      ],
      "metadata": {
        "id": "TZxJCIQshyj-"
      },
      "execution_count": 8,
      "outputs": []
    },
    {
      "cell_type": "code",
      "source": [
        "def build_model():\n",
        "    input_numeric = Input(shape=(len(numeric_features),))\n",
        "    input_sifat = Input(shape=(1,))\n",
        "\n",
        "    # Add a dense layer for numeric features\n",
        "    dense_numeric = Dense(64, activation='relu')(input_numeric)\n",
        "\n",
        "    # Embed 'sifat_ikan' using an embedding layer\n",
        "    embed_sifat = Embedding(input_dim=len(label_encoder.classes_), output_dim=10)(input_sifat)\n",
        "    flatten_sifat = Flatten()(embed_sifat)\n",
        "\n",
        "    # Concatenate the outputs of numeric and embedded layers\n",
        "    merged = Concatenate()([dense_numeric, flatten_sifat])\n",
        "\n",
        "    # Output for 'sifat_ikan'\n",
        "    output_sifat = Dense(1, activation='sigmoid', name='output_sifat')(merged)\n",
        "\n",
        "    # Output for 'nama_ikan'\n",
        "    output_nama_ikan = Dense(len(df_ikan), activation='softmax', name='output_nama_ikan')(flatten_sifat)\n",
        "\n",
        "    model = Model(inputs=[input_numeric, input_sifat], outputs=[output_sifat, output_nama_ikan])\n",
        "    model.compile(optimizer='adam', loss={'output_sifat': 'binary_crossentropy', 'output_nama_ikan': 'categorical_crossentropy'}, metrics=['accuracy'])\n",
        "    return model"
      ],
      "metadata": {
        "id": "kyDd7wUchymp"
      },
      "execution_count": 9,
      "outputs": []
    },
    {
      "cell_type": "code",
      "source": [
        "model = build_model()\n",
        "model.fit(x=[df_ikan[numeric_features],\n",
        "             df_ikan['sifat_ikan']],\n",
        "          y={'output_sifat': df_ikan['sifat_ikan'],\n",
        "             'output_nama_ikan': pd.get_dummies(df_ikan['nama_ikan'])},\n",
        "          epochs=10, batch_size=32)"
      ],
      "metadata": {
        "id": "pQuqYmG9hypd",
        "colab": {
          "base_uri": "https://localhost:8080/"
        },
        "outputId": "95c2e039-1d34-4a3b-91d3-766dcf2fbd64"
      },
      "execution_count": 10,
      "outputs": [
        {
          "output_type": "stream",
          "name": "stdout",
          "text": [
            "Epoch 1/10\n",
            "1/1 [==============================] - 1s 969ms/step - loss: 3.8361 - output_sifat_loss: 0.7455 - output_nama_ikan_loss: 3.0906 - output_sifat_accuracy: 0.4091 - output_nama_ikan_accuracy: 0.0000e+00\n",
            "Epoch 2/10\n",
            "1/1 [==============================] - 0s 10ms/step - loss: 3.8249 - output_sifat_loss: 0.7347 - output_nama_ikan_loss: 3.0902 - output_sifat_accuracy: 0.4091 - output_nama_ikan_accuracy: 0.0000e+00\n",
            "Epoch 3/10\n",
            "1/1 [==============================] - 0s 9ms/step - loss: 3.8138 - output_sifat_loss: 0.7240 - output_nama_ikan_loss: 3.0898 - output_sifat_accuracy: 0.4091 - output_nama_ikan_accuracy: 0.0455\n",
            "Epoch 4/10\n",
            "1/1 [==============================] - 0s 10ms/step - loss: 3.8030 - output_sifat_loss: 0.7136 - output_nama_ikan_loss: 3.0894 - output_sifat_accuracy: 0.4091 - output_nama_ikan_accuracy: 0.0455\n",
            "Epoch 5/10\n",
            "1/1 [==============================] - 0s 10ms/step - loss: 3.7922 - output_sifat_loss: 0.7032 - output_nama_ikan_loss: 3.0890 - output_sifat_accuracy: 0.4091 - output_nama_ikan_accuracy: 0.0455\n",
            "Epoch 6/10\n",
            "1/1 [==============================] - 0s 10ms/step - loss: 3.7816 - output_sifat_loss: 0.6930 - output_nama_ikan_loss: 3.0886 - output_sifat_accuracy: 0.4091 - output_nama_ikan_accuracy: 0.0455\n",
            "Epoch 7/10\n",
            "1/1 [==============================] - 0s 10ms/step - loss: 3.7712 - output_sifat_loss: 0.6829 - output_nama_ikan_loss: 3.0882 - output_sifat_accuracy: 0.4091 - output_nama_ikan_accuracy: 0.0455\n",
            "Epoch 8/10\n",
            "1/1 [==============================] - 0s 9ms/step - loss: 3.7608 - output_sifat_loss: 0.6730 - output_nama_ikan_loss: 3.0878 - output_sifat_accuracy: 0.4545 - output_nama_ikan_accuracy: 0.0000e+00\n",
            "Epoch 9/10\n",
            "1/1 [==============================] - 0s 9ms/step - loss: 3.7507 - output_sifat_loss: 0.6633 - output_nama_ikan_loss: 3.0874 - output_sifat_accuracy: 0.7273 - output_nama_ikan_accuracy: 0.0000e+00\n",
            "Epoch 10/10\n",
            "1/1 [==============================] - 0s 10ms/step - loss: 3.7407 - output_sifat_loss: 0.6537 - output_nama_ikan_loss: 3.0870 - output_sifat_accuracy: 0.7273 - output_nama_ikan_accuracy: 0.0000e+00\n"
          ]
        },
        {
          "output_type": "execute_result",
          "data": {
            "text/plain": [
              "<keras.src.callbacks.History at 0x7f70c381fc70>"
            ]
          },
          "metadata": {},
          "execution_count": 10
        }
      ]
    },
    {
      "cell_type": "code",
      "source": [
        "def get_recommendations(id_ikan):\n",
        "    input_numeric = df_ikan.loc[id_ikan, numeric_features].values.reshape(1, -1)\n",
        "    input_sifat = df_ikan.loc[id_ikan, 'sifat_ikan']\n",
        "\n",
        "    # Ensure that input data types are correct\n",
        "    input_numeric = input_numeric.astype(np.float32)\n",
        "    input_sifat = np.array([input_sifat]).astype(np.int32)\n",
        "\n",
        "    # Predict using the trained model\n",
        "    predictions = model.predict([input_numeric, input_sifat])\n",
        "\n",
        "    # Extract indices of top 3 predictions (excluding the input itself)\n",
        "    output_sifat_prob = predictions[0][0]\n",
        "    output_nama_ikan_prob = predictions[1][0]\n",
        "\n",
        "    # Get the top 3 predicted classes for 'nama_ikan'\n",
        "    top_classes = np.argsort(output_nama_ikan_prob)[::-1][:3]\n",
        "\n",
        "    # Filter recommendations based on 'sifat_ikan'\n",
        "    if input_sifat == 0:\n",
        "        filtered_indices = np.intersect1d(np.where(df_ikan['sifat_ikan'].isin([0, 1])), top_classes)\n",
        "    elif input_sifat == 1:\n",
        "        filtered_indices = np.intersect1d(np.where(df_ikan['sifat_ikan'].isin([0, 1])), top_classes)\n",
        "    elif input_sifat == 2:\n",
        "        filtered_indices = np.intersect1d(np.where(df_ikan['sifat_ikan'].isin([1, 2])), top_classes)\n",
        "\n",
        "    # Get the top 3 similar fish\n",
        "    top_similar_ikan = df_ikan.iloc[filtered_indices][['nama_ikan']]\n",
        "\n",
        "    return top_similar_ikan"
      ],
      "metadata": {
        "id": "UHcCoMSUhysC"
      },
      "execution_count": 11,
      "outputs": []
    },
    {
      "cell_type": "code",
      "source": [
        "id_ikan_input = 3  # Replace with the desired id_ikan\n",
        "recommendations = get_recommendations(id_ikan_input)\n",
        "print(recommendations)"
      ],
      "metadata": {
        "id": "R-soJvTdhyu4",
        "colab": {
          "base_uri": "https://localhost:8080/"
        },
        "outputId": "4a9f17c9-8ef0-4562-d640-155fc3598b0e"
      },
      "execution_count": 12,
      "outputs": [
        {
          "output_type": "stream",
          "name": "stdout",
          "text": [
            "1/1 [==============================] - 0s 70ms/step\n",
            "                        nama_ikan\n",
            "6   glofish (Poecilia reticulata)\n",
            "13  Arwana (Scleropages formosus)\n"
          ]
        }
      ]
    },
    {
      "cell_type": "code",
      "source": [
        "model.save('/content/drive/MyDrive/csv/model_rekomendasi/model_rekomendasi_v3.h5')"
      ],
      "metadata": {
        "colab": {
          "base_uri": "https://localhost:8080/"
        },
        "id": "rRlqeM92PeMo",
        "outputId": "fce161b5-bbd8-488e-8638-6048d19202af"
      },
      "execution_count": null,
      "outputs": [
        {
          "output_type": "stream",
          "name": "stderr",
          "text": [
            "/usr/local/lib/python3.10/dist-packages/keras/src/engine/training.py:3103: UserWarning: You are saving your model as an HDF5 file via `model.save()`. This file format is considered legacy. We recommend using instead the native Keras format, e.g. `model.save('my_model.keras')`.\n",
            "  saving_api.save_model(\n"
          ]
        }
      ]
    }
  ]
}